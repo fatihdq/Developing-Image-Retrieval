{
 "cells": [
  {
   "cell_type": "markdown",
   "id": "d29fa01b",
   "metadata": {},
   "source": [
    "# Developing an Image Retrieval System with deep features"
   ]
  },
  {
   "cell_type": "markdown",
   "id": "3fc86254",
   "metadata": {},
   "source": [
    "Using deep feature form model CNN imagenet to extract my dataset feature. Apply transfer learning techniques to use deep features learned with one data set to get great preformance on a different data set and build model for image retrieval and image classification task"
   ]
  },
  {
   "cell_type": "markdown",
   "id": "51a2a1a7",
   "metadata": {},
   "source": [
    "## Import Module"
   ]
  },
  {
   "cell_type": "code",
   "execution_count": 1,
   "id": "7515f75a",
   "metadata": {},
   "outputs": [],
   "source": [
    "import turicreate as tc\n",
    "import matplotlib.pyplot as plt"
   ]
  },
  {
   "cell_type": "markdown",
   "id": "18ea0bfa",
   "metadata": {},
   "source": [
    "## Load train set and test set data"
   ]
  },
  {
   "cell_type": "markdown",
   "id": "35e9c736",
   "metadata": {},
   "source": [
    "in this case, we will use a popular benchmark dataset in computer vision that called CIFFAR-10, this data set containt 4 categories (cat, dog, bird, and auto mobile)"
   ]
  },
  {
   "cell_type": "code",
   "execution_count": 2,
   "id": "35940be2",
   "metadata": {},
   "outputs": [],
   "source": [
    "train_data = tc.SFrame('image_train_data')\n",
    "test_data = tc.SFrame('image_test_data')"
   ]
  },
  {
   "cell_type": "markdown",
   "id": "f9572f9a",
   "metadata": {},
   "source": [
    "## Explore Data set"
   ]
  },
  {
   "cell_type": "markdown",
   "id": "115754f4",
   "metadata": {},
   "source": [
    "this simple exploration just to know characteristics of the data set, for the example: "
   ]
  },
  {
   "cell_type": "markdown",
   "id": "3a440b8d",
   "metadata": {},
   "source": [
    "- how many image is in each dataset (train set and test set) ?\n",
    "- Are the labels in each data set (train set and test set) balanced ?"
   ]
  },
  {
   "cell_type": "markdown",
   "id": "99a3d6e9",
   "metadata": {},
   "source": [
    "#### How many image is in each dataset"
   ]
  },
  {
   "cell_type": "code",
   "execution_count": 3,
   "id": "808d2a85",
   "metadata": {},
   "outputs": [
    {
     "data": {
      "text/plain": [
       "2005"
      ]
     },
     "execution_count": 3,
     "metadata": {},
     "output_type": "execute_result"
    }
   ],
   "source": [
    "len(train_data)"
   ]
  },
  {
   "cell_type": "code",
   "execution_count": 4,
   "id": "76e88ab6",
   "metadata": {},
   "outputs": [
    {
     "data": {
      "text/plain": [
       "4000"
      ]
     },
     "execution_count": 4,
     "metadata": {},
     "output_type": "execute_result"
    }
   ],
   "source": [
    "len(test_data)"
   ]
  },
  {
   "cell_type": "markdown",
   "id": "4daaa3ac",
   "metadata": {},
   "source": [
    "#### Unique of label image"
   ]
  },
  {
   "cell_type": "code",
   "execution_count": 5,
   "id": "c8094a21",
   "metadata": {},
   "outputs": [],
   "source": [
    "train_label = train_data.groupby('label',operations={'count':tc.aggregate.COUNT()})\n",
    "label = train_label['label'].unique()\n",
    "\n",
    "count_list =[]\n",
    "for record in train_label:\n",
    "    count_list.append(record['count'])"
   ]
  },
  {
   "cell_type": "code",
   "execution_count": 6,
   "id": "9115d5d8",
   "metadata": {},
   "outputs": [],
   "source": [
    "test_label = test_data.groupby('label',operations={'count':tc.aggregate.COUNT()})\n",
    "label2 = test_label['label'].unique()\n",
    "\n",
    "count_list2 =[]\n",
    "for record in test_label:\n",
    "    count_list2.append(record['count'])"
   ]
  },
  {
   "cell_type": "code",
   "execution_count": 7,
   "id": "37366363",
   "metadata": {},
   "outputs": [
    {
     "data": {
      "image/png": "[encoded data removed]",
      "text/plain": [
       "<Figure size 432x288 with 1 Axes>"
      ]
     },
     "metadata": {
      "needs_background": "light"
     },
     "output_type": "display_data"
    },
    {
     "data": {
      "image/png": "[encoded data removed]",
      "text/plain": [
       "<Figure size 432x288 with 1 Axes>"
      ]
     },
     "metadata": {
      "needs_background": "light"
     },
     "output_type": "display_data"
    }
   ],
   "source": [
    "plt.subplot(1,2,1)\n",
    "plt.title('Number of Train labels')\n",
    "plt.xlabel('Label')\n",
    "plt.ylabel('Count')\n",
    "\n",
    "plt.xticks(rotation='45')\n",
    "plt.bar(label,count_list)\n",
    "plt.show()\n",
    "\n",
    "plt.subplot(1,2,2)\n",
    "plt.title('Number of Test labels')\n",
    "plt.xlabel('Label')\n",
    "plt.ylabel('Count')\n",
    "\n",
    "plt.xticks(rotation='45')\n",
    "plt.bar(label2,count_list2,color='#2f5d62')\n",
    "plt.show()"
   ]
  },
  {
   "cell_type": "code",
   "execution_count": 8,
   "id": "ad749093",
   "metadata": {},
   "outputs": [
    {
     "data": {
      "text/plain": [
       "\n",
       "+------------------+-------+----------+\n",
       "|       item       | value | is exact |\n",
       "+------------------+-------+----------+\n",
       "|      Length      |  2005 |   Yes    |\n",
       "| # Missing Values |   0   |   Yes    |\n",
       "| # unique values  |   4   |    No    |\n",
       "+------------------+-------+----------+\n",
       "\n",
       "Most frequent items:\n",
       "+------------+-------+\n",
       "|   value    | count |\n",
       "+------------+-------+\n",
       "|    cat     |  509  |\n",
       "|    dog     |  509  |\n",
       "| automobile |  509  |\n",
       "|    bird    |  478  |\n",
       "+------------+-------+\n"
      ]
     },
     "execution_count": 8,
     "metadata": {},
     "output_type": "execute_result"
    }
   ],
   "source": [
    "tc.Sketch(train_data['label'])"
   ]
  },
  {
   "cell_type": "markdown",
   "id": "789498c0",
   "metadata": {},
   "source": [
    "## Classification Image"
   ]
  },
  {
   "cell_type": "markdown",
   "id": "525d84ed",
   "metadata": {},
   "source": [
    "Apply deep features to make model for classification task using logistic regression method, and see how the model performs using deep features"
   ]
  },
  {
   "cell_type": "markdown",
   "id": "a628eb0c",
   "metadata": {},
   "source": [
    "#### Get deep features using extracted features imagenet model"
   ]
  },
  {
   "cell_type": "code",
   "execution_count": 9,
   "id": "db44e647",
   "metadata": {},
   "outputs": [],
   "source": [
    "#deep_learning_model = tc.load_model('imagenet_model_iter45')\n",
    "#train_data['deep_features'] = deep_learning_model.extract_features(train_data)('imagenet_model_iter45')"
   ]
  },
  {
   "cell_type": "code",
   "execution_count": 10,
   "id": "f57d98ad",
   "metadata": {},
   "outputs": [
    {
     "data": {
      "text/html": [
       "<div style=\"max-height:1000px;max-width:1500px;overflow:auto;\"><table frame=\"box\" rules=\"cols\">\n",
       "    <tr>\n",
       "        <th style=\"padding-left: 1em; padding-right: 1em; text-align: center\">id</th>\n",
       "        <th style=\"padding-left: 1em; padding-right: 1em; text-align: center\">image</th>\n",
       "        <th style=\"padding-left: 1em; padding-right: 1em; text-align: center\">label</th>\n",
       "        <th style=\"padding-left: 1em; padding-right: 1em; text-align: center\">deep_features</th>\n",
       "        <th style=\"padding-left: 1em; padding-right: 1em; text-align: center\">image_array</th>\n",
       "    </tr>\n",
       "    <tr>\n",
       "        <td style=\"padding-left: 1em; padding-right: 1em; text-align: center; vertical-align: top\">24</td>\n",
       "        <td style=\"padding-left: 1em; padding-right: 1em; text-align: center; vertical-align: top\">Height: 32 Width: 32</td>\n",
       "        <td style=\"padding-left: 1em; padding-right: 1em; text-align: center; vertical-align: top\">bird</td>\n",
       "        <td style=\"padding-left: 1em; padding-right: 1em; text-align: center; vertical-align: top\">[0.24287176132202148,<br>1.0954537391662598, 0.0, ...</td>\n",
       "        <td style=\"padding-left: 1em; padding-right: 1em; text-align: center; vertical-align: top\">[73.0, 77.0, 58.0, 71.0,<br>68.0, 50.0, 77.0, 69.0, ...</td>\n",
       "    </tr>\n",
       "    <tr>\n",
       "        <td style=\"padding-left: 1em; padding-right: 1em; text-align: center; vertical-align: top\">33</td>\n",
       "        <td style=\"padding-left: 1em; padding-right: 1em; text-align: center; vertical-align: top\">Height: 32 Width: 32</td>\n",
       "        <td style=\"padding-left: 1em; padding-right: 1em; text-align: center; vertical-align: top\">cat</td>\n",
       "        <td style=\"padding-left: 1em; padding-right: 1em; text-align: center; vertical-align: top\">[0.5250879526138306, 0.0,<br>0.0, 0.0, 0.0, 0.0, ...</td>\n",
       "        <td style=\"padding-left: 1em; padding-right: 1em; text-align: center; vertical-align: top\">[7.0, 5.0, 8.0, 7.0, 5.0,<br>8.0, 5.0, 4.0, 6.0, 7.0, ...</td>\n",
       "    </tr>\n",
       "    <tr>\n",
       "        <td style=\"padding-left: 1em; padding-right: 1em; text-align: center; vertical-align: top\">36</td>\n",
       "        <td style=\"padding-left: 1em; padding-right: 1em; text-align: center; vertical-align: top\">Height: 32 Width: 32</td>\n",
       "        <td style=\"padding-left: 1em; padding-right: 1em; text-align: center; vertical-align: top\">cat</td>\n",
       "        <td style=\"padding-left: 1em; padding-right: 1em; text-align: center; vertical-align: top\">[0.5660159587860107, 0.0,<br>0.0, 0.0, 0.0, 0.0, ...</td>\n",
       "        <td style=\"padding-left: 1em; padding-right: 1em; text-align: center; vertical-align: top\">[169.0, 122.0, 65.0,<br>131.0, 108.0, 75.0, ...</td>\n",
       "    </tr>\n",
       "    <tr>\n",
       "        <td style=\"padding-left: 1em; padding-right: 1em; text-align: center; vertical-align: top\">70</td>\n",
       "        <td style=\"padding-left: 1em; padding-right: 1em; text-align: center; vertical-align: top\">Height: 32 Width: 32</td>\n",
       "        <td style=\"padding-left: 1em; padding-right: 1em; text-align: center; vertical-align: top\">dog</td>\n",
       "        <td style=\"padding-left: 1em; padding-right: 1em; text-align: center; vertical-align: top\">[1.129795789718628, 0.0,<br>0.0, 0.7781944870948792, ...</td>\n",
       "        <td style=\"padding-left: 1em; padding-right: 1em; text-align: center; vertical-align: top\">[154.0, 179.0, 152.0,<br>159.0, 183.0, 157.0, ...</td>\n",
       "    </tr>\n",
       "    <tr>\n",
       "        <td style=\"padding-left: 1em; padding-right: 1em; text-align: center; vertical-align: top\">90</td>\n",
       "        <td style=\"padding-left: 1em; padding-right: 1em; text-align: center; vertical-align: top\">Height: 32 Width: 32</td>\n",
       "        <td style=\"padding-left: 1em; padding-right: 1em; text-align: center; vertical-align: top\">bird</td>\n",
       "        <td style=\"padding-left: 1em; padding-right: 1em; text-align: center; vertical-align: top\">[1.7178692817687988, 0.0,<br>0.0, 0.0, 0.0, 0.0, ...</td>\n",
       "        <td style=\"padding-left: 1em; padding-right: 1em; text-align: center; vertical-align: top\">[216.0, 195.0, 180.0,<br>201.0, 178.0, 160.0, ...</td>\n",
       "    </tr>\n",
       "    <tr>\n",
       "        <td style=\"padding-left: 1em; padding-right: 1em; text-align: center; vertical-align: top\">97</td>\n",
       "        <td style=\"padding-left: 1em; padding-right: 1em; text-align: center; vertical-align: top\">Height: 32 Width: 32</td>\n",
       "        <td style=\"padding-left: 1em; padding-right: 1em; text-align: center; vertical-align: top\">automobile</td>\n",
       "        <td style=\"padding-left: 1em; padding-right: 1em; text-align: center; vertical-align: top\">[1.5781855583190918, 0.0,<br>0.0, 0.0, 0.0, 0.0, ...</td>\n",
       "        <td style=\"padding-left: 1em; padding-right: 1em; text-align: center; vertical-align: top\">[33.0, 44.0, 27.0, 29.0,<br>44.0, 31.0, 32.0, 45.0, ...</td>\n",
       "    </tr>\n",
       "    <tr>\n",
       "        <td style=\"padding-left: 1em; padding-right: 1em; text-align: center; vertical-align: top\">107</td>\n",
       "        <td style=\"padding-left: 1em; padding-right: 1em; text-align: center; vertical-align: top\">Height: 32 Width: 32</td>\n",
       "        <td style=\"padding-left: 1em; padding-right: 1em; text-align: center; vertical-align: top\">dog</td>\n",
       "        <td style=\"padding-left: 1em; padding-right: 1em; text-align: center; vertical-align: top\">[0.0, 0.0,<br>0.22067785263061523,  ...</td>\n",
       "        <td style=\"padding-left: 1em; padding-right: 1em; text-align: center; vertical-align: top\">[97.0, 51.0, 31.0, 104.0,<br>58.0, 38.0, 107.0, 61.0, ...</td>\n",
       "    </tr>\n",
       "    <tr>\n",
       "        <td style=\"padding-left: 1em; padding-right: 1em; text-align: center; vertical-align: top\">121</td>\n",
       "        <td style=\"padding-left: 1em; padding-right: 1em; text-align: center; vertical-align: top\">Height: 32 Width: 32</td>\n",
       "        <td style=\"padding-left: 1em; padding-right: 1em; text-align: center; vertical-align: top\">bird</td>\n",
       "        <td style=\"padding-left: 1em; padding-right: 1em; text-align: center; vertical-align: top\">[0.0,<br>0.23753464221954346,  ...</td>\n",
       "        <td style=\"padding-left: 1em; padding-right: 1em; text-align: center; vertical-align: top\">[93.0, 96.0, 88.0, 102.0,<br>106.0, 97.0, 117.0, ...</td>\n",
       "    </tr>\n",
       "    <tr>\n",
       "        <td style=\"padding-left: 1em; padding-right: 1em; text-align: center; vertical-align: top\">136</td>\n",
       "        <td style=\"padding-left: 1em; padding-right: 1em; text-align: center; vertical-align: top\">Height: 32 Width: 32</td>\n",
       "        <td style=\"padding-left: 1em; padding-right: 1em; text-align: center; vertical-align: top\">automobile</td>\n",
       "        <td style=\"padding-left: 1em; padding-right: 1em; text-align: center; vertical-align: top\">[0.0, 0.0, 0.0, 0.0, 0.0,<br>0.0, 7.57378625869751, ...</td>\n",
       "        <td style=\"padding-left: 1em; padding-right: 1em; text-align: center; vertical-align: top\">[35.0, 59.0, 53.0, 36.0,<br>56.0, 56.0, 42.0, 62.0, ...</td>\n",
       "    </tr>\n",
       "    <tr>\n",
       "        <td style=\"padding-left: 1em; padding-right: 1em; text-align: center; vertical-align: top\">138</td>\n",
       "        <td style=\"padding-left: 1em; padding-right: 1em; text-align: center; vertical-align: top\">Height: 32 Width: 32</td>\n",
       "        <td style=\"padding-left: 1em; padding-right: 1em; text-align: center; vertical-align: top\">bird</td>\n",
       "        <td style=\"padding-left: 1em; padding-right: 1em; text-align: center; vertical-align: top\">[0.6589357256889343, 0.0,<br>0.0, 0.0, 0.0, 0.0, ...</td>\n",
       "        <td style=\"padding-left: 1em; padding-right: 1em; text-align: center; vertical-align: top\">[205.0, 193.0, 195.0,<br>200.0, 187.0, 193.0, ...</td>\n",
       "    </tr>\n",
       "</table>\n",
       "[2005 rows x 5 columns]<br/>Note: Only the head of the SFrame is printed.<br/>You can use print_rows(num_rows=m, num_columns=n) to print more rows and columns.\n",
       "</div>"
      ],
      "text/plain": [
       "Columns:\n",
       "\tid\tint\n",
       "\timage\tImage\n",
       "\tlabel\tstr\n",
       "\tdeep_features\tarray\n",
       "\timage_array\tarray\n",
       "\n",
       "Rows: 2005\n",
       "\n",
       "Data:\n",
       "+-----+----------------------+------------+-------------------------------+\n",
       "|  id |        image         |   label    |         deep_features         |\n",
       "+-----+----------------------+------------+-------------------------------+\n",
       "|  24 | Height: 32 Width: 32 |    bird    | [0.24287176132202148, 1.09... |\n",
       "|  33 | Height: 32 Width: 32 |    cat     | [0.5250879526138306, 0.0, ... |\n",
       "|  36 | Height: 32 Width: 32 |    cat     | [0.5660159587860107, 0.0, ... |\n",
       "|  70 | Height: 32 Width: 32 |    dog     | [1.129795789718628, 0.0, 0... |\n",
       "|  90 | Height: 32 Width: 32 |    bird    | [1.7178692817687988, 0.0, ... |\n",
       "|  97 | Height: 32 Width: 32 | automobile | [1.5781855583190918, 0.0, ... |\n",
       "| 107 | Height: 32 Width: 32 |    dog     | [0.0, 0.0, 0.2206778526306... |\n",
       "| 121 | Height: 32 Width: 32 |    bird    | [0.0, 0.23753464221954346,... |\n",
       "| 136 | Height: 32 Width: 32 | automobile | [0.0, 0.0, 0.0, 0.0, 0.0, ... |\n",
       "| 138 | Height: 32 Width: 32 |    bird    | [0.6589357256889343, 0.0, ... |\n",
       "+-----+----------------------+------------+-------------------------------+\n",
       "+-------------------------------+\n",
       "|          image_array          |\n",
       "+-------------------------------+\n",
       "| [73.0, 77.0, 58.0, 71.0, 6... |\n",
       "| [7.0, 5.0, 8.0, 7.0, 5.0, ... |\n",
       "| [169.0, 122.0, 65.0, 131.0... |\n",
       "| [154.0, 179.0, 152.0, 159.... |\n",
       "| [216.0, 195.0, 180.0, 201.... |\n",
       "| [33.0, 44.0, 27.0, 29.0, 4... |\n",
       "| [97.0, 51.0, 31.0, 104.0, ... |\n",
       "| [93.0, 96.0, 88.0, 102.0, ... |\n",
       "| [35.0, 59.0, 53.0, 36.0, 5... |\n",
       "| [205.0, 193.0, 195.0, 200.... |\n",
       "+-------------------------------+\n",
       "[2005 rows x 5 columns]\n",
       "Note: Only the head of the SFrame is printed.\n",
       "You can use print_rows(num_rows=m, num_columns=n) to print more rows and columns."
      ]
     },
     "execution_count": 10,
     "metadata": {},
     "output_type": "execute_result"
    }
   ],
   "source": [
    "train_data"
   ]
  },
  {
   "cell_type": "markdown",
   "id": "2437743c",
   "metadata": {},
   "source": [
    "#### Given the deep features, train a logistic classifier"
   ]
  },
  {
   "cell_type": "code",
   "execution_count": 11,
   "id": "d607c893",
   "metadata": {},
   "outputs": [
    {
     "name": "stdout",
     "output_type": "stream",
     "text": [
      "PROGRESS: Creating a validation set from 5 percent of training data. This may take a while.\n",
      "          You can set ``validation_set=None`` to disable validation tracking.\n",
      "\n"
     ]
    },
    {
     "data": {
      "text/html": [
       "<pre>Logistic regression:</pre>"
      ],
      "text/plain": [
       "Logistic regression:"
      ]
     },
     "metadata": {},
     "output_type": "display_data"
    },
    {
     "data": {
      "text/html": [
       "<pre>--------------------------------------------------------</pre>"
      ],
      "text/plain": [
       "--------------------------------------------------------"
      ]
     },
     "metadata": {},
     "output_type": "display_data"
    },
    {
     "data": {
      "text/html": [
       "<pre>Number of examples          : 1904</pre>"
      ],
      "text/plain": [
       "Number of examples          : 1904"
      ]
     },
     "metadata": {},
     "output_type": "display_data"
    },
    {
     "data": {
      "text/html": [
       "<pre>Number of classes           : 4</pre>"
      ],
      "text/plain": [
       "Number of classes           : 4"
      ]
     },
     "metadata": {},
     "output_type": "display_data"
    },
    {
     "data": {
      "text/html": [
       "<pre>Number of feature columns   : 1</pre>"
      ],
      "text/plain": [
       "Number of feature columns   : 1"
      ]
     },
     "metadata": {},
     "output_type": "display_data"
    },
    {
     "data": {
      "text/html": [
       "<pre>Number of unpacked features : 4096</pre>"
      ],
      "text/plain": [
       "Number of unpacked features : 4096"
      ]
     },
     "metadata": {},
     "output_type": "display_data"
    },
    {
     "data": {
      "text/html": [
       "<pre>Number of coefficients      : 12291</pre>"
      ],
      "text/plain": [
       "Number of coefficients      : 12291"
      ]
     },
     "metadata": {},
     "output_type": "display_data"
    },
    {
     "data": {
      "text/html": [
       "<pre>Starting L-BFGS</pre>"
      ],
      "text/plain": [
       "Starting L-BFGS"
      ]
     },
     "metadata": {},
     "output_type": "display_data"
    },
    {
     "data": {
      "text/html": [
       "<pre>--------------------------------------------------------</pre>"
      ],
      "text/plain": [
       "--------------------------------------------------------"
      ]
     },
     "metadata": {},
     "output_type": "display_data"
    },
    {
     "data": {
      "text/html": [
       "<pre>+-----------+----------+-----------+--------------+-------------------+---------------------+</pre>"
      ],
      "text/plain": [
       "+-----------+----------+-----------+--------------+-------------------+---------------------+"
      ]
     },
     "metadata": {},
     "output_type": "display_data"
    },
    {
     "data": {
      "text/html": [
       "<pre>| Iteration | Passes   | Step size | Elapsed Time | Training Accuracy | Validation Accuracy |</pre>"
      ],
      "text/plain": [
       "| Iteration | Passes   | Step size | Elapsed Time | Training Accuracy | Validation Accuracy |"
      ]
     },
     "metadata": {},
     "output_type": "display_data"
    },
    {
     "data": {
      "text/html": [
       "<pre>+-----------+----------+-----------+--------------+-------------------+---------------------+</pre>"
      ],
      "text/plain": [
       "+-----------+----------+-----------+--------------+-------------------+---------------------+"
      ]
     },
     "metadata": {},
     "output_type": "display_data"
    },
    {
     "data": {
      "text/html": [
       "<pre>| 0         | 3        | 0.500000  | 1.672503     | 0.756828          | 0.772277            |</pre>"
      ],
      "text/plain": [
       "| 0         | 3        | 0.500000  | 1.672503     | 0.756828          | 0.772277            |"
      ]
     },
     "metadata": {},
     "output_type": "display_data"
    },
    {
     "data": {
      "text/html": [
       "<pre>| 1         | 6        | 0.250000  | 2.569505     | 0.761555          | 0.772277            |</pre>"
      ],
      "text/plain": [
       "| 1         | 6        | 0.250000  | 2.569505     | 0.761555          | 0.772277            |"
      ]
     },
     "metadata": {},
     "output_type": "display_data"
    },
    {
     "data": {
      "text/html": [
       "<pre>| 2         | 8        | 0.202674  | 3.235609     | 0.773634          | 0.782178            |</pre>"
      ],
      "text/plain": [
       "| 2         | 8        | 0.202674  | 3.235609     | 0.773634          | 0.782178            |"
      ]
     },
     "metadata": {},
     "output_type": "display_data"
    },
    {
     "data": {
      "text/html": [
       "<pre>| 3         | 12       | 0.608023  | 4.331042     | 0.795693          | 0.792079            |</pre>"
      ],
      "text/plain": [
       "| 3         | 12       | 0.608023  | 4.331042     | 0.795693          | 0.792079            |"
      ]
     },
     "metadata": {},
     "output_type": "display_data"
    },
    {
     "data": {
      "text/html": [
       "<pre>| 4         | 13       | 0.760029  | 4.814098     | 0.815126          | 0.782178            |</pre>"
      ],
      "text/plain": [
       "| 4         | 13       | 0.760029  | 4.814098     | 0.815126          | 0.782178            |"
      ]
     },
     "metadata": {},
     "output_type": "display_data"
    },
    {
     "data": {
      "text/html": [
       "<pre>| 9         | 19       | 1.000000  | 7.207613     | 0.926471          | 0.801980            |</pre>"
      ],
      "text/plain": [
       "| 9         | 19       | 1.000000  | 7.207613     | 0.926471          | 0.801980            |"
      ]
     },
     "metadata": {},
     "output_type": "display_data"
    },
    {
     "data": {
      "text/html": [
       "<pre>+-----------+----------+-----------+--------------+-------------------+---------------------+</pre>"
      ],
      "text/plain": [
       "+-----------+----------+-----------+--------------+-------------------+---------------------+"
      ]
     },
     "metadata": {},
     "output_type": "display_data"
    }
   ],
   "source": [
    "deep_features_model = tc.logistic_classifier.create(train_data,target='label',features=['deep_features'])"
   ]
  },
  {
   "cell_type": "markdown",
   "id": "c369b1c4",
   "metadata": {},
   "source": [
    "#### Quantitatively evaluate deep features classifier on test data"
   ]
  },
  {
   "cell_type": "code",
   "execution_count": 12,
   "id": "1ccc4725",
   "metadata": {},
   "outputs": [
    {
     "data": {
      "text/plain": [
       "{'accuracy': 0.7935,\n",
       " 'auc': 0.9420620833333333,\n",
       " 'confusion_matrix': Columns:\n",
       " \ttarget_label\tstr\n",
       " \tpredicted_label\tstr\n",
       " \tcount\tint\n",
       " \n",
       " Rows: 16\n",
       " \n",
       " Data:\n",
       " +--------------+-----------------+-------+\n",
       " | target_label | predicted_label | count |\n",
       " +--------------+-----------------+-------+\n",
       " |     dog      |    automobile   |   12  |\n",
       " |     bird     |       bird      |  796  |\n",
       " |  automobile  |       bird      |   14  |\n",
       " |     dog      |       bird      |   46  |\n",
       " |     cat      |    automobile   |   23  |\n",
       " |     cat      |       cat       |  709  |\n",
       " |     bird     |       cat       |  138  |\n",
       " |     cat      |       dog       |  205  |\n",
       " |     dog      |       dog       |  707  |\n",
       " |     bird     |       dog       |   53  |\n",
       " +--------------+-----------------+-------+\n",
       " [16 rows x 3 columns]\n",
       " Note: Only the head of the SFrame is printed.\n",
       " You can use print_rows(num_rows=m, num_columns=n) to print more rows and columns.,\n",
       " 'f1_score': 0.7948527524067499,\n",
       " 'log_loss': 0.6150827198534083,\n",
       " 'precision': 0.7977830772823753,\n",
       " 'recall': 0.7934999999999999,\n",
       " 'roc_curve': Columns:\n",
       " \tthreshold\tfloat\n",
       " \tfpr\tfloat\n",
       " \ttpr\tfloat\n",
       " \tp\tint\n",
       " \tn\tint\n",
       " \tclass\tint\n",
       " \n",
       " Rows: 4004\n",
       " \n",
       " Data:\n",
       " +-----------+---------------------+-------+------+------+-------+\n",
       " | threshold |         fpr         |  tpr  |  p   |  n   | class |\n",
       " +-----------+---------------------+-------+------+------+-------+\n",
       " |    0.0    |         1.0         |  1.0  | 1000 | 3000 |   0   |\n",
       " |   0.001   | 0.39466666666666667 | 0.999 | 1000 | 3000 |   0   |\n",
       " |   0.002   |        0.311        | 0.999 | 1000 | 3000 |   0   |\n",
       " |   0.003   | 0.26766666666666666 | 0.998 | 1000 | 3000 |   0   |\n",
       " |   0.004   | 0.23933333333333334 | 0.998 | 1000 | 3000 |   0   |\n",
       " |   0.005   | 0.21566666666666667 | 0.998 | 1000 | 3000 |   0   |\n",
       " |   0.006   |        0.201        | 0.998 | 1000 | 3000 |   0   |\n",
       " |   0.007   |        0.188        | 0.998 | 1000 | 3000 |   0   |\n",
       " |   0.008   |        0.179        | 0.998 | 1000 | 3000 |   0   |\n",
       " |   0.009   | 0.16766666666666666 | 0.998 | 1000 | 3000 |   0   |\n",
       " +-----------+---------------------+-------+------+------+-------+\n",
       " [4004 rows x 6 columns]\n",
       " Note: Only the head of the SFrame is printed.\n",
       " You can use print_rows(num_rows=m, num_columns=n) to print more rows and columns.}"
      ]
     },
     "execution_count": 12,
     "metadata": {},
     "output_type": "execute_result"
    }
   ],
   "source": [
    "deep_features_model.evaluate(test_data)"
   ]
  },
  {
   "cell_type": "markdown",
   "id": "f25b2ed7",
   "metadata": {},
   "source": [
    "#### Apply the deep features classifier on the first few images"
   ]
  },
  {
   "cell_type": "markdown",
   "id": "124f6aa5",
   "metadata": {},
   "source": [
    "lets apply the logistic model to predict some image"
   ]
  },
  {
   "cell_type": "code",
   "execution_count": 13,
   "id": "33f5811e",
   "metadata": {},
   "outputs": [
    {
     "data": {
      "text/html": [
       "<html lang=\"en\">                                                     <head>                                                               <style>                                                              .sframe {                                                            font-size: 12px;                                                   font-family: HelveticaNeue;                                        border: 1px solid silver;                                        }                                                                  .sframe thead th {                                                   background: #F7F7F7;                                               font-family: HelveticaNeue-Medium;                                 font-size: 14px;                                                   line-height: 16.8px;                                               padding-top: 16px;                                                 padding-bottom: 16px;                                              padding-left: 10px;                                                padding-right: 38px;                                               border-top: 1px solid #E9E9E9;                                     border-bottom: 1px solid #E9E9E9;                                  white-space: nowrap;                                               overflow: hidden;                                                  text-overflow:ellipsis;                                            text-align:center;                                                 font-weight:normal;                                              }                                                                  .sframe tbody th {                                                   background: #FFFFFF;                                               text-align:left;                                                   font-weight:normal;                                                border-right: 1px solid #E9E9E9;                                 }                                                                  .sframe td {                                                         background: #FFFFFF;                                               padding-left: 10px;                                                padding-right: 38px;                                               padding-top: 14px;                                                 padding-bottom: 14px;                                              border-bottom: 1px solid #E9E9E9;                                  max-height: 0px;                                                   transition: max-height 5s ease-out;                                vertical-align: middle;                                            font-family: HelveticaNeue;                                        font-size: 12px;                                                   line-height: 16.8px;                                               background: #FFFFFF;                                             }                                                                  .sframe tr {                                                         padding-left: 10px;                                                padding-right: 38px;                                               padding-top: 14px;                                                 padding-bottom: 14px;                                              border-bottom: 1px solid #E9E9E9;                                  max-height: 0px;                                                   transition: max-height 5s ease-out;                                vertical-align: middle;                                            font-family: HelveticaNeue;                                        font-size: 12px;                                                   line-height: 16.8px;                                               background: #FFFFFF;                                             }                                                                  .sframe tr:hover {                                                   background: silver;                                              },                                                               </style>                                                         </head>                                                            <body>                                                               <h1>  </h1>                                             <table border=\"1\" class=\"dataframe sframe\">\n",
       "  <thead>\n",
       "    <tr style=\"text-align: right;\">\n",
       "      <th></th>\n",
       "      <th>SArray</th>\n",
       "    </tr>\n",
       "  </thead>\n",
       "  <tbody>\n",
       "    <tr>\n",
       "      <th>0</th>\n",
       "      <td><img src=\"data:image/png;base64,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\"/></td>\n",
       "    </tr>\n",
       "    <tr>\n",
       "      <th>1</th>\n",
       "      <td><img src=\"data:image/png;base64,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\"/></td>\n",
       "    </tr>\n",
       "    <tr>\n",
       "      <th>2</th>\n",
       "      <td><img src=\"data:image/png;base64,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\"/></td>\n",
       "    </tr>\n",
       "  </tbody>\n",
       "</table>                          </body>                                                          </html>"
      ],
      "text/plain": [
       "<IPython.core.display.HTML object>"
      ]
     },
     "metadata": {},
     "output_type": "display_data"
    }
   ],
   "source": [
    "test_data[0:3]['image'].explore()"
   ]
  },
  {
   "cell_type": "code",
   "execution_count": 14,
   "id": "759a7661",
   "metadata": {},
   "outputs": [
    {
     "data": {
      "text/plain": [
       "dtype: str\n",
       "Rows: 3\n",
       "['cat', 'automobile', 'cat']"
      ]
     },
     "execution_count": 14,
     "metadata": {},
     "output_type": "execute_result"
    }
   ],
   "source": [
    "deep_features_model.predict(test_data[0:3])"
   ]
  },
  {
   "cell_type": "markdown",
   "id": "2c0d75da",
   "metadata": {},
   "source": [
    "## Nearest Neighbors"
   ]
  },
  {
   "cell_type": "markdown",
   "id": "88de9f51",
   "metadata": {},
   "source": [
    "Nearest Neighbors algorthm that similar things exist in close proximity. is this optimation problem to finding the point in a deep features of the image that is closest or most similar to a given point"
   ]
  },
  {
   "cell_type": "markdown",
   "id": "b4ef611c",
   "metadata": {},
   "source": [
    "### Train a nearest neighbors model using train set"
   ]
  },
  {
   "cell_type": "markdown",
   "id": "167b3e7e",
   "metadata": {},
   "source": [
    "#### Create a nearest neighbors model to retrieve image from deep features using train set"
   ]
  },
  {
   "cell_type": "markdown",
   "id": "04392bbc",
   "metadata": {},
   "source": [
    "now, we will now build a simple image retrieval system to finds the nearest neighbors for any image using train set"
   ]
  },
  {
   "cell_type": "code",
   "execution_count": 15,
   "id": "a6eaf4dc",
   "metadata": {},
   "outputs": [
    {
     "data": {
      "text/html": [
       "<pre>Starting brute force nearest neighbors model training.</pre>"
      ],
      "text/plain": [
       "Starting brute force nearest neighbors model training."
      ]
     },
     "metadata": {},
     "output_type": "display_data"
    },
    {
     "data": {
      "text/html": [
       "<pre>Validating distance components.</pre>"
      ],
      "text/plain": [
       "Validating distance components."
      ]
     },
     "metadata": {},
     "output_type": "display_data"
    },
    {
     "data": {
      "text/html": [
       "<pre>Initializing model data.</pre>"
      ],
      "text/plain": [
       "Initializing model data."
      ]
     },
     "metadata": {},
     "output_type": "display_data"
    },
    {
     "data": {
      "text/html": [
       "<pre>Initializing distances.</pre>"
      ],
      "text/plain": [
       "Initializing distances."
      ]
     },
     "metadata": {},
     "output_type": "display_data"
    },
    {
     "data": {
      "text/html": [
       "<pre>Done.</pre>"
      ],
      "text/plain": [
       "Done."
      ]
     },
     "metadata": {},
     "output_type": "display_data"
    }
   ],
   "source": [
    "knn_model = tc.nearest_neighbors.create(train_data,\n",
    "                                               features = ['deep_features'],\n",
    "                                               label = 'id')"
   ]
  },
  {
   "cell_type": "markdown",
   "id": "18c02630",
   "metadata": {},
   "source": [
    "####  Apply NN model to find similar images"
   ]
  },
  {
   "cell_type": "markdown",
   "id": "9e8dbf40",
   "metadata": {},
   "source": [
    "Create a simple function to veiw the nearest neighbors result"
   ]
  },
  {
   "cell_type": "code",
   "execution_count": 22,
   "id": "1859f854",
   "metadata": {},
   "outputs": [],
   "source": [
    "def get_images_from_ids(query_result):\n",
    "    print(query_result)\n",
    "    return train_data.filter_by(query_result['reference_label'],'id')"
   ]
  },
  {
   "cell_type": "markdown",
   "id": "ac2e6a3b",
   "metadata": {},
   "source": [
    "finding similar images to a bird"
   ]
  },
  {
   "cell_type": "code",
   "execution_count": 25,
   "id": "3af2a2be",
   "metadata": {},
   "outputs": [
    {
     "data": {
      "text/html": [
       "<html lang=\"en\">                                                     <head>                                                               <style>                                                              .sframe {                                                            font-size: 12px;                                                   font-family: HelveticaNeue;                                        border: 1px solid silver;                                        }                                                                  .sframe thead th {                                                   background: #F7F7F7;                                               font-family: HelveticaNeue-Medium;                                 font-size: 14px;                                                   line-height: 16.8px;                                               padding-top: 16px;                                                 padding-bottom: 16px;                                              padding-left: 10px;                                                padding-right: 38px;                                               border-top: 1px solid #E9E9E9;                                     border-bottom: 1px solid #E9E9E9;                                  white-space: nowrap;                                               overflow: hidden;                                                  text-overflow:ellipsis;                                            text-align:center;                                                 font-weight:normal;                                              }                                                                  .sframe tbody th {                                                   background: #FFFFFF;                                               text-align:left;                                                   font-weight:normal;                                                border-right: 1px solid #E9E9E9;                                 }                                                                  .sframe td {                                                         background: #FFFFFF;                                               padding-left: 10px;                                                padding-right: 38px;                                               padding-top: 14px;                                                 padding-bottom: 14px;                                              border-bottom: 1px solid #E9E9E9;                                  max-height: 0px;                                                   transition: max-height 5s ease-out;                                vertical-align: middle;                                            font-family: HelveticaNeue;                                        font-size: 12px;                                                   line-height: 16.8px;                                               background: #FFFFFF;                                             }                                                                  .sframe tr {                                                         padding-left: 10px;                                                padding-right: 38px;                                               padding-top: 14px;                                                 padding-bottom: 14px;                                              border-bottom: 1px solid #E9E9E9;                                  max-height: 0px;                                                   transition: max-height 5s ease-out;                                vertical-align: middle;                                            font-family: HelveticaNeue;                                        font-size: 12px;                                                   line-height: 16.8px;                                               background: #FFFFFF;                                             }                                                                  .sframe tr:hover {                                                   background: silver;                                              },                                                               </style>                                                         </head>                                                            <body>                                                               <h1>  </h1>                                             <table border=\"1\" class=\"dataframe sframe\">\n",
       "  <thead>\n",
       "    <tr style=\"text-align: right;\">\n",
       "      <th></th>\n",
       "      <th>SArray</th>\n",
       "    </tr>\n",
       "  </thead>\n",
       "  <tbody>\n",
       "    <tr>\n",
       "      <th>0</th>\n",
       "      <td><img src=\"data:image/png;base64,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\"/></td>\n",
       "    </tr>\n",
       "  </tbody>\n",
       "</table>                          </body>                                                          </html>"
      ],
      "text/plain": [
       "<IPython.core.display.HTML object>"
      ]
     },
     "metadata": {},
     "output_type": "display_data"
    }
   ],
   "source": [
    "bird_im = train_data[0:1]\n",
    "bird_im['image'].explore()"
   ]
  },
  {
   "cell_type": "code",
   "execution_count": 24,
   "id": "dc50487a",
   "metadata": {},
   "outputs": [
    {
     "data": {
      "text/html": [
       "<pre>Starting pairwise querying.</pre>"
      ],
      "text/plain": [
       "Starting pairwise querying."
      ]
     },
     "metadata": {},
     "output_type": "display_data"
    },
    {
     "data": {
      "text/html": [
       "<pre>+--------------+---------+-------------+--------------+</pre>"
      ],
      "text/plain": [
       "+--------------+---------+-------------+--------------+"
      ]
     },
     "metadata": {},
     "output_type": "display_data"
    },
    {
     "data": {
      "text/html": [
       "<pre>| Query points | # Pairs | % Complete. | Elapsed Time |</pre>"
      ],
      "text/plain": [
       "| Query points | # Pairs | % Complete. | Elapsed Time |"
      ]
     },
     "metadata": {},
     "output_type": "display_data"
    },
    {
     "data": {
      "text/html": [
       "<pre>+--------------+---------+-------------+--------------+</pre>"
      ],
      "text/plain": [
       "+--------------+---------+-------------+--------------+"
      ]
     },
     "metadata": {},
     "output_type": "display_data"
    },
    {
     "data": {
      "text/html": [
       "<pre>| 0            | 1       | 0.0498753   | 17.661ms     |</pre>"
      ],
      "text/plain": [
       "| 0            | 1       | 0.0498753   | 17.661ms     |"
      ]
     },
     "metadata": {},
     "output_type": "display_data"
    },
    {
     "data": {
      "text/html": [
       "<pre>| Done         |         | 100         | 179.814ms    |</pre>"
      ],
      "text/plain": [
       "| Done         |         | 100         | 179.814ms    |"
      ]
     },
     "metadata": {},
     "output_type": "display_data"
    },
    {
     "data": {
      "text/html": [
       "<pre>+--------------+---------+-------------+--------------+</pre>"
      ],
      "text/plain": [
       "+--------------+---------+-------------+--------------+"
      ]
     },
     "metadata": {},
     "output_type": "display_data"
    },
    {
     "name": "stdout",
     "output_type": "stream",
     "text": [
      "+-------------+-----------------+-------------------+------+\n",
      "| query_label | reference_label |      distance     | rank |\n",
      "+-------------+-----------------+-------------------+------+\n",
      "|      0      |        24       |        0.0        |  1   |\n",
      "|      0      |      30224      | 36.54547656421385 |  2   |\n",
      "|      0      |      34071      | 37.80114508781701 |  3   |\n",
      "|      0      |      37742      | 41.03992996157689 |  4   |\n",
      "|      0      |      36130      | 41.51054472137894 |  5   |\n",
      "+-------------+-----------------+-------------------+------+\n",
      "[5 rows x 4 columns]\n",
      "\n"
     ]
    },
    {
     "data": {
      "text/html": [
       "<html lang=\"en\">                                                     <head>                                                               <style>                                                              .sframe {                                                            font-size: 12px;                                                   font-family: HelveticaNeue;                                        border: 1px solid silver;                                        }                                                                  .sframe thead th {                                                   background: #F7F7F7;                                               font-family: HelveticaNeue-Medium;                                 font-size: 14px;                                                   line-height: 16.8px;                                               padding-top: 16px;                                                 padding-bottom: 16px;                                              padding-left: 10px;                                                padding-right: 38px;                                               border-top: 1px solid #E9E9E9;                                     border-bottom: 1px solid #E9E9E9;                                  white-space: nowrap;                                               overflow: hidden;                                                  text-overflow:ellipsis;                                            text-align:center;                                                 font-weight:normal;                                              }                                                                  .sframe tbody th {                                                   background: #FFFFFF;                                               text-align:left;                                                   font-weight:normal;                                                border-right: 1px solid #E9E9E9;                                 }                                                                  .sframe td {                                                         background: #FFFFFF;                                               padding-left: 10px;                                                padding-right: 38px;                                               padding-top: 14px;                                                 padding-bottom: 14px;                                              border-bottom: 1px solid #E9E9E9;                                  max-height: 0px;                                                   transition: max-height 5s ease-out;                                vertical-align: middle;                                            font-family: HelveticaNeue;                                        font-size: 12px;                                                   line-height: 16.8px;                                               background: #FFFFFF;                                             }                                                                  .sframe tr {                                                         padding-left: 10px;                                                padding-right: 38px;                                               padding-top: 14px;                                                 padding-bottom: 14px;                                              border-bottom: 1px solid #E9E9E9;                                  max-height: 0px;                                                   transition: max-height 5s ease-out;                                vertical-align: middle;                                            font-family: HelveticaNeue;                                        font-size: 12px;                                                   line-height: 16.8px;                                               background: #FFFFFF;                                             }                                                                  .sframe tr:hover {                                                   background: silver;                                              },                                                               </style>                                                         </head>                                                            <body>                                                               <h1>  </h1>                                             <table border=\"1\" class=\"dataframe sframe\">\n",
       "  <thead>\n",
       "    <tr style=\"text-align: right;\">\n",
       "      <th></th>\n",
       "      <th>SArray</th>\n",
       "    </tr>\n",
       "  </thead>\n",
       "  <tbody>\n",
       "    <tr>\n",
       "      <th>0</th>\n",
       "      <td><img src=\"data:image/png;base64,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\"/></td>\n",
       "    </tr>\n",
       "    <tr>\n",
       "      <th>1</th>\n",
       "      <td><img src=\"data:image/png;base64,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\"/></td>\n",
       "    </tr>\n",
       "    <tr>\n",
       "      <th>2</th>\n",
       "      <td><img src=\"data:image/png;base64,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\"/></td>\n",
       "    </tr>\n",
       "    <tr>\n",
       "      <th>3</th>\n",
       "      <td><img src=\"data:image/png;base64,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\"/></td>\n",
       "    </tr>\n",
       "    <tr>\n",
       "      <th>4</th>\n",
       "      <td><img src=\"data:image/png;base64,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\"/></td>\n",
       "    </tr>\n",
       "  </tbody>\n",
       "</table>                          </body>                                                          </html>"
      ],
      "text/plain": [
       "<IPython.core.display.HTML object>"
      ]
     },
     "metadata": {},
     "output_type": "display_data"
    }
   ],
   "source": [
    "bird_nn = get_images_from_ids(knn_model.query(train_data[0:1]))\n",
    "bird_nn['image'].explore()"
   ]
  },
  {
   "cell_type": "markdown",
   "id": "30e37f76",
   "metadata": {},
   "source": [
    "<h1 align='center'> END <h1>"
   ]
  }
 ],
 "metadata": {
  "kernelspec": {
   "display_name": "Python 3",
   "language": "python",
   "name": "python3"
  },
  "language_info": {
   "codemirror_mode": {
    "name": "ipython",
    "version": 3
   },
   "file_extension": ".py",
   "mimetype": "text/x-python",
   "name": "python",
   "nbconvert_exporter": "python",
   "pygments_lexer": "ipython3",
   "version": "3.6.9"
  }
 },
 "nbformat": 4,
 "nbformat_minor": 5
}
